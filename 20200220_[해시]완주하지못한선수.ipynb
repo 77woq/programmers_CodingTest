{
 "cells": [
  {
   "cell_type": "markdown",
   "metadata": {},
   "source": [
    "## 해시 > 완주하지 못한 선수"
   ]
  },
  {
   "cell_type": "markdown",
   "metadata": {},
   "source": [
    "[웹사이트](https://programmers.co.kr/learn/courses/30/lessons/42576)"
   ]
  },
  {
   "cell_type": "markdown",
   "metadata": {},
   "source": [
    "> 해시 : 키(Key)에 데이터(Value)를 저장하는 데이터 구조\n",
    "- Key를 통해 바로 데이터를 받아올 수 있으므로, 속도가 획기적으로 빨라짐\n",
    "- 파이썬 딕셔너리(Dictionary) 타입이 해시 테이블의 예 (Key를 가지고 바로 데이터(Value)를 꺼냄)\n",
    "- 단, 파이썬에서는 해시를 별도 구현할 이유가 없음 - 딕셔너리 타입을 사용 "
   ]
  },
  {
   "cell_type": "code",
   "execution_count": null,
   "metadata": {},
   "outputs": [],
   "source": [
    "participant1 = ['leo', 'kiki', 'eden']\n",
    "completion1 = ['eden', 'kiki']\n",
    "participant2 = ['marina', 'josipa', 'nikola', 'vinko', 'filipa']\n",
    "completion2 = ['josipa', 'filipa', 'marina', 'nikola']\n",
    "participant3 = ['mislav', 'stanko', 'mislav', 'ana']\n",
    "completion3 = ['stanko', 'ana', 'mislav']\n"
   ]
  },
  {
   "cell_type": "code",
   "execution_count": 38,
   "metadata": {},
   "outputs": [
    {
     "name": "stdout",
     "output_type": "stream",
     "text": [
      "leo\n",
      "vinko\n",
      "mislav\n",
      "time : 0.0\n"
     ]
    }
   ],
   "source": [
    "#정확성 50 / 효율성 0\n",
    "import time\n",
    "start = time.time()\n",
    "\n",
    "def solution1(participant, completion):\n",
    "    for i in completion:\n",
    "        participant.remove(i)\n",
    "    return participant[0]\n",
    "\n",
    "print(solution1(participant1, completion1))\n",
    "print(solution1(participant2, completion2))\n",
    "print(solution1(participant3, completion3))\n",
    "\n",
    "print(\"time :\", time.time() - start)"
   ]
  },
  {
   "cell_type": "code",
   "execution_count": 51,
   "metadata": {},
   "outputs": [
    {
     "name": "stdout",
     "output_type": "stream",
     "text": [
      "Counter({'aa': 2, 'cc': 1, 'dd': 1, 'bb': 1, 'ee': 1})\n",
      "Counter({'aa': 2, 'ee': 2, 'cc': 1, 'bb': 1})\n",
      "Counter({'aa': 4, 'ee': 3, 'cc': 2, 'bb': 2, 'dd': 1})\n",
      "Counter({'dd': 1})\n",
      "Counter({'aa': 2, 'ee': 2, 'cc': 1, 'dd': 1, 'bb': 1})\n",
      "Counter({'aa': 2, 'cc': 1, 'bb': 1, 'ee': 1})\n"
     ]
    }
   ],
   "source": [
    "# collections\n",
    "# 컨테이너에 동일한 값의 자료가 몇개인지를 파악하는데 사용하는 객체\n",
    "\n",
    "import collections\n",
    "lst1 = ['aa', 'cc', 'dd', 'aa', 'bb', 'ee']\n",
    "lst2 = ['aa', 'aa', 'ee', 'cc', 'bb', 'ee']\n",
    "print(collections.Counter(lst1))\n",
    "print(collections.Counter(lst2))\n",
    "\n",
    "answer_plus = collections.Counter(lst1) + collections.Counter(lst2)\n",
    "answer_minus = collections.Counter(lst1) - collections.Counter(lst2)\n",
    "answer_union = collections.Counter(lst1) | collections.Counter(lst2)\n",
    "answer_intersection = collections.Counter(lst1) & collections.Counter(lst2)\n",
    "\n",
    "print(answer_plus)\n",
    "print(answer_minus)\n",
    "print(answer_union)\n",
    "print(answer_intersection)\n",
    "    "
   ]
  },
  {
   "cell_type": "code",
   "execution_count": 40,
   "metadata": {},
   "outputs": [],
   "source": [
    "participant1 = ['leo', 'kiki', 'eden']\n",
    "completion1 = ['eden', 'kiki']\n",
    "participant2 = ['marina', 'josipa', 'nikola', 'vinko', 'filipa']\n",
    "completion2 = ['josipa', 'filipa', 'marina', 'nikola']\n",
    "participant3 = ['mislav', 'stanko', 'mislav', 'ana']\n",
    "completion3 = ['stanko', 'ana', 'mislav']\n"
   ]
  },
  {
   "cell_type": "code",
   "execution_count": 57,
   "metadata": {},
   "outputs": [
    {
     "name": "stdout",
     "output_type": "stream",
     "text": [
      "leo\n",
      "vinko\n",
      "mislav\n",
      "time : 0.0\n"
     ]
    }
   ],
   "source": [
    "#정확성 50 / 효율성 50\n",
    "\n",
    "import time\n",
    "start = time.time()\n",
    "\n",
    "import collections\n",
    "def solution2(participant, completion):\n",
    "    answer = collections.Counter(participant) - collections.Counter(completion)\n",
    "    return list(answer.keys())[0]\n",
    "\n",
    "print(solution2(participant1, completion1))\n",
    "print(solution2(participant2, completion2))\n",
    "print(solution2(participant3, completion3))\n",
    "\n",
    "print(\"time :\", time.time() - start)"
   ]
  },
  {
   "cell_type": "code",
   "execution_count": null,
   "metadata": {},
   "outputs": [],
   "source": []
  }
 ],
 "metadata": {
  "kernelspec": {
   "display_name": "Python 3",
   "language": "python",
   "name": "python3"
  },
  "language_info": {
   "codemirror_mode": {
    "name": "ipython",
    "version": 3
   },
   "file_extension": ".py",
   "mimetype": "text/x-python",
   "name": "python",
   "nbconvert_exporter": "python",
   "pygments_lexer": "ipython3",
   "version": "3.7.4"
  }
 },
 "nbformat": 4,
 "nbformat_minor": 2
}
