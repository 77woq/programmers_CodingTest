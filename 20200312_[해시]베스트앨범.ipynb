{
 "cells": [
  {
   "cell_type": "code",
   "execution_count": 13,
   "metadata": {},
   "outputs": [],
   "source": [
    "genres = [\"classic\", \"pop\", \"classic\", \"classic\", \"pop\"]\n",
    "plays = [500, 600, 150, 800, 2500]"
   ]
  },
  {
   "cell_type": "code",
   "execution_count": 20,
   "metadata": {},
   "outputs": [
    {
     "name": "stdout",
     "output_type": "stream",
     "text": [
      "[[4, 2500], [1, 600]]\n",
      "[[3, 800], [0, 500], [2, 150]]\n",
      "{'classic': [[3, 800], [0, 500], [2, 150]], 'pop': [[4, 2500], [1, 600]]}\n",
      "[4, 1, 3, 0]\n"
     ]
    }
   ],
   "source": [
    "'''\n",
    "정확성: 100.0\n",
    "합계: 100.0 / 100.0\n",
    "\n",
    "'''\n",
    "\n",
    "def solution(genres, plays):\n",
    "    answer = []\n",
    "    d_genres = dict()\n",
    "    d_table = dict()\n",
    "\n",
    "    # d_genres는 각 장르에 속한 노래들의 정보를 담은 딕셔너리\n",
    "    # { classic: [노래고유번호, 재생횟수]}\n",
    "    \n",
    "\n",
    "    for i in range(len(genres)):\n",
    "        d_genres[genres[i]] = []\n",
    "\n",
    "    for i in range(len(genres)):\n",
    "        d_genres[genres[i]].append([i, plays[i]])\n",
    "\n",
    "    for i in list(d_genres.keys()):\n",
    "        d_genres[i].sort(key=lambda x:x[1], reverse=True)\n",
    "        \n",
    "    # d_table은 장르별 재생횟수 총합을 구하기 위한 딕셔너리.\n",
    "    # 장르: {재생횟수, 장르: 재생횟수, ... , 장르: 재생횟수}\n",
    "    \n",
    "    for i in range(len(genres)):\n",
    "        d_table[genres[i]] = 0\n",
    "\n",
    "    for i in range(len(genres)):\n",
    "        d_table[genres[i]] += plays[i]\n",
    "    \n",
    "    #sorted() : 원래 값 유지하면서 정렬된 결과 얻을 수 있음. key parameter는 비교를 하는 기준으로 사용\n",
    "    #lambda x:x[1] : 내림차순으로 나열 x:x[1]에 대해서!\n",
    "    \n",
    "    d_table = list(d_table.items())\n",
    "    d_table = sorted(d_table, key=lambda x:x[1], reverse=True)\n",
    "    \n",
    "    for i in range(len(d_table)):\n",
    "        key = d_table[i][0]\n",
    "        if len(d_genres[key]) == 1:\n",
    "            answer.append(d_genres[key][0][0])\n",
    "            \n",
    "        #append() object 맨 뒤에 추가\n",
    "        else:\n",
    "            answer.append(d_genres[key][0][0])\n",
    "            answer.append(d_genres[key][1][0])\n",
    "    print(d_genres)\n",
    "    return answer\n",
    "\n",
    "print(solution(genres,plays))"
   ]
  },
  {
   "cell_type": "markdown",
   "metadata": {},
   "source": [
    "**좋아요 1등 풀이\n",
    "\n",
    "이중 lambda 사용\n",
    "x: list(d.keys()) 원소 의미 , y: d[x] 원소 의미. x(genres)를 받아서 d[x] 딕셔너리 d의 해당 장르에 속한 음악 고유번호와 play 된 수 list에서 play된 수만 추출-> 그 값들을 모두 합한 값을 key로 sorted 하는 방식"
   ]
  },
  {
   "cell_type": "code",
   "execution_count": 29,
   "metadata": {},
   "outputs": [
    {
     "name": "stdout",
     "output_type": "stream",
     "text": [
      "[4, 1, 3, 0]\n"
     ]
    }
   ],
   "source": [
    "def solution(genres, plays):\n",
    "    answer = []\n",
    "    d = {e:[] for e in set(genres)}\n",
    "    for e in zip(genres, plays, range(len(plays))):\n",
    "        d[e[0]].append([e[1] , e[2]])\n",
    "    genreSort =sorted(list(d.keys()), key= lambda x: sum( map(lambda y: y[0],d[x])), reverse = True)\n",
    "    for g in genreSort:\n",
    "        temp = [e[1] for e in sorted(d[g],key= lambda x: (x[0], -x[1]), reverse = True)]\n",
    "        answer += temp[:min(len(temp),2)]\n",
    "    return answer\n",
    "\n",
    "print(solution(genres,plays))"
   ]
  },
  {
   "cell_type": "code",
   "execution_count": null,
   "metadata": {},
   "outputs": [],
   "source": []
  }
 ],
 "metadata": {
  "kernelspec": {
   "display_name": "Python 3",
   "language": "python",
   "name": "python3"
  },
  "language_info": {
   "codemirror_mode": {
    "name": "ipython",
    "version": 3
   },
   "file_extension": ".py",
   "mimetype": "text/x-python",
   "name": "python",
   "nbconvert_exporter": "python",
   "pygments_lexer": "ipython3",
   "version": "3.7.4"
  }
 },
 "nbformat": 4,
 "nbformat_minor": 2
}
