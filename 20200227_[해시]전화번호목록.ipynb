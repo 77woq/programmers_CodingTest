{
 "cells": [
  {
   "cell_type": "markdown",
   "metadata": {},
   "source": [
    "## 해시 > 전화번호 목록\n",
    "artools {combination , permutation } //모든 조합 찾아냄\n",
    "sort&for문 시간 넘 오래 걸리니까 줄이도록 노력하기"
   ]
  },
  {
   "cell_type": "code",
   "execution_count": 1,
   "metadata": {},
   "outputs": [],
   "source": [
    "phone_book1 = [\"119\", \"97674223\", \"1195524421\"]\n",
    "phone_book2 = [\"123\",\"456\",\"789\"]a\n",
    "phone_book3 = [\"12\",\"123\",\"1235\",\"567\",\"88\"]\n"
   ]
  },
  {
   "cell_type": "code",
   "execution_count": 2,
   "metadata": {},
   "outputs": [
    {
     "name": "stdout",
     "output_type": "stream",
     "text": [
      "False\n",
      "True\n",
      "False\n"
     ]
    }
   ],
   "source": [
    "'''\n",
    "정확성 84.6 / 효율성 15.4\n",
    "합계 100 / 100\n",
    "\n",
    "효율성  테스트\n",
    "테스트 1 > 통과 (1.91ms, 15.4MB)\n",
    "테스트 2 > 통과 (1.94ms, 15.3MB)\n",
    "'''\n",
    "\n",
    "def solution1(phone_book):\n",
    "    phone_book.sort(key = len)\n",
    "    for i in range(len(phone_book)):\n",
    "        for j in range(i+1,len(phone_book)):\n",
    "            if phone_book[i] == phone_book[j][:len(phone_book[i])]:\n",
    "                return False\n",
    "    return True\n",
    "\n",
    "print(solution1(phone_book1))\n",
    "print(solution1(phone_book2))\n",
    "print(solution1(phone_book3))"
   ]
  },
  {
   "cell_type": "code",
   "execution_count": 3,
   "metadata": {},
   "outputs": [
    {
     "name": "stdout",
     "output_type": "stream",
     "text": [
      "False\n",
      "True\n",
      "False\n"
     ]
    }
   ],
   "source": [
    "'''\n",
    "정확성 84.6 / 효율성 15.4\n",
    "합계 100 / 100\n",
    "\n",
    "효율성  테스트\n",
    "테스트 1 > 통과 (3.40ms, 15.4MB)\n",
    "테스트 2 > 통과 (3.51ms, 15.3MB)\n",
    "'''\n",
    "\n",
    "# string을 sorted 할 경우 앞자부터 크기를 비교하여 sort\n",
    "# startswith(a) : a로 시작할 경우 True \n",
    "\n",
    "def solution2(phoneBook):\n",
    "    phoneBook = sorted(phoneBook)\n",
    "    for p1, p2 in zip(phoneBook, phoneBook[1:]):\n",
    "        if p2.startswith(p1):\n",
    "            return False\n",
    "    return True\n",
    "\n",
    "print(solution2(phone_book1))\n",
    "print(solution2(phone_book2))\n",
    "print(solution2(phone_book3))"
   ]
  },
  {
   "cell_type": "code",
   "execution_count": 4,
   "metadata": {},
   "outputs": [
    {
     "name": "stdout",
     "output_type": "stream",
     "text": [
      "False\n",
      "True\n",
      "False\n"
     ]
    }
   ],
   "source": [
    "'''\n",
    "정확성 84.6 / 효율성 15.4\n",
    "합계 100 / 100\n",
    "\n",
    "효율성  테스트\n",
    "테스트 1 > 통과 (0.17ms, 15.2MB)\n",
    "테스트 2 > 통과 (0.14ms, 15.2MB)\n",
    "'''\n",
    "\n",
    "\n",
    "def solution3(phone_book): \n",
    "    for i, number in enumerate(phone_book): \n",
    "        for j in range(i+1, len(phone_book)): \n",
    "            min_len = min(len(number), len(phone_book[j])) \n",
    "            if number[:min_len] == phone_book[j][:min_len]: \n",
    "                return False \n",
    "    return True\n",
    "\n",
    "print(solution3(phone_book1))\n",
    "print(solution3(phone_book2))\n",
    "print(solution3(phone_book3))"
   ]
  },
  {
   "cell_type": "code",
   "execution_count": null,
   "metadata": {},
   "outputs": [],
   "source": []
  },
  {
   "cell_type": "code",
   "execution_count": null,
   "metadata": {},
   "outputs": [],
   "source": []
  }
 ],
 "metadata": {
  "kernelspec": {
   "display_name": "Python 3",
   "language": "python",
   "name": "python3"
  },
  "language_info": {
   "codemirror_mode": {
    "name": "ipython",
    "version": 3
   },
   "file_extension": ".py",
   "mimetype": "text/x-python",
   "name": "python",
   "nbconvert_exporter": "python",
   "pygments_lexer": "ipython3",
   "version": "3.7.4"
  }
 },
 "nbformat": 4,
 "nbformat_minor": 2
}
