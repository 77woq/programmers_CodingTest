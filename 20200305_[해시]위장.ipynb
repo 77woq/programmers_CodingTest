{
 "cells": [
  {
   "cell_type": "markdown",
   "metadata": {},
   "source": [
    "[웹사이트](https://programmers.co.kr/learn/courses/30/lessons/42578)"
   ]
  },
  {
   "cell_type": "markdown",
   "metadata": {},
   "source": [
    "> 해시 : 키(Key)에 데이터(Value)를 저장하는 데이터 구조\n",
    "- Key를 통해 바로 데이터를 받아올 수 있으므로, 속도가 획기적으로 빨라짐\n",
    "- 파이썬 딕셔너리(Dictionary) 타입이 해시 테이블의 예 (Key를 가지고 바로 데이터(Value)를 꺼냄)\n",
    "- 단, 파이썬에서는 해시를 별도 구현할 이유가 없음 - 딕셔너리 타입을 사용 "
   ]
  },
  {
   "cell_type": "code",
   "execution_count": 264,
   "metadata": {},
   "outputs": [],
   "source": [
    "clo1=[['yellow_hat', 'headgear'], ['blue_sunglasses', 'eyewear'], ['green_turban', 'headgear']]\n",
    "clo2=[['crow_mask', 'face'], ['blue_sunglasses', 'face'], ['smoky_makeup', 'face']]\n",
    "clo3=[['crow_mask', 'face'], ['blue_sunglasses', 'b'], ['smoky_makeup', 'c']]"
   ]
  },
  {
   "cell_type": "code",
   "execution_count": 274,
   "metadata": {},
   "outputs": [
    {
     "data": {
      "text/plain": [
       "(5, 3, 7)"
      ]
     },
     "execution_count": 274,
     "metadata": {},
     "output_type": "execute_result"
    }
   ],
   "source": [
    "\"\"\"\n",
    "정확성: 100.0\n",
    "합계: 100.0 / 100.0\n",
    "\n",
    "효율성  테스트\n",
    "테스트 7 >0.08ms, 10.6MB\n",
    "\n",
    "\"\"\"\n",
    "\n",
    "from collections import Counter\n",
    "from functools import reduce\n",
    "from operator import mul\n",
    "\n",
    "def solution(clothes):\n",
    "    return reduce(mul, [cnt + 1 for cnt in Counter([kind for name, kind in clothes]).values()]) - 1\n",
    "\n",
    "solution(clo1),solution(clo2),solution(clo3)\n",
    "\n",
    "\n",
    "#의상의 종류가 A, B, C 3개일 때 총 조합의 수 = A + B + C + AB + AC + BC + ABC = (A+1)(B+1)(C+1) - 1 "
   ]
  },
  {
   "cell_type": "markdown",
   "metadata": {},
   "source": [
    "> Functools 모듈의 reduce(function, iterable, initializer=None)\n",
    "- iterable의 값을 순차적으로 fuction에 적용"
   ]
  },
  {
   "cell_type": "code",
   "execution_count": 275,
   "metadata": {},
   "outputs": [
    {
     "name": "stdout",
     "output_type": "stream",
     "text": [
      "0 1\n",
      "1 2\n",
      "3 3\n",
      "6 4\n"
     ]
    },
    {
     "data": {
      "text/plain": [
       "10"
      ]
     },
     "execution_count": 275,
     "metadata": {},
     "output_type": "execute_result"
    }
   ],
   "source": [
    "def sum(x, y):\n",
    "    print(x,y)\n",
    "    return x+y\n",
    "reduce(sum, [1,2,3,4],0)\n"
   ]
  },
  {
   "cell_type": "markdown",
   "metadata": {},
   "source": [
    "> operator.mul()\n",
    "- a와 b 숫자에 대해, a * b를 반환"
   ]
  },
  {
   "cell_type": "code",
   "execution_count": 285,
   "metadata": {},
   "outputs": [
    {
     "data": {
      "text/plain": [
       "(5, 3, 7)"
      ]
     },
     "execution_count": 285,
     "metadata": {},
     "output_type": "execute_result"
    }
   ],
   "source": [
    "\"\"\"\n",
    "런타임 에러\n",
    "\n",
    "\"\"\"\n",
    "\n",
    "def solution(clothes):\n",
    "    cnt = Counter([kind for name, kind in clothes])\n",
    "    answer = reduce(lambda x, y: x*(y+1), cnt.values(), 1) - 1\n",
    "    return answer\n",
    "solution(clo1),solution(clo2),solution(clo3)"
   ]
  },
  {
   "cell_type": "code",
   "execution_count": 278,
   "metadata": {
    "scrolled": true
   },
   "outputs": [
    {
     "data": {
      "text/plain": [
       "(5, 3, 7)"
      ]
     },
     "execution_count": 278,
     "metadata": {},
     "output_type": "execute_result"
    }
   ],
   "source": [
    "\"\"\"\n",
    "정확성: 100.0\n",
    "합계: 100.0 / 100.0\n",
    "\n",
    "효율성  테스트\n",
    "테스트 7 > 0.08ms, 10.6MB\n",
    "\n",
    "\"\"\"\n",
    "\n",
    "from collections import Counter\n",
    "from functools import reduce\n",
    "\n",
    "def solution(clothes):\n",
    "    cloth_counter = Counter([ctype for _, ctype in clothes]) \n",
    "    return reduce(lambda a, b: a + b + a * b, cloth_counter.values())\n",
    "\n",
    "solution(clo1),solution(clo2),solution(clo3)"
   ]
  },
  {
   "cell_type": "markdown",
   "metadata": {},
   "source": [
    "# 실패"
   ]
  },
  {
   "cell_type": "code",
   "execution_count": 283,
   "metadata": {},
   "outputs": [
    {
     "data": {
      "text/plain": [
       "(5, 3, 6)"
      ]
     },
     "execution_count": 283,
     "metadata": {},
     "output_type": "execute_result"
    }
   ],
   "source": [
    "def solution(clothes):\n",
    "    cloth={}\n",
    "    cloth.update(clothes)\n",
    "    a=len(cloth)\n",
    "    b=len(set(cloth.values()))\n",
    "\n",
    "    answer=0\n",
    "    if b==1:\n",
    "        return a*1\n",
    "    \n",
    "    if b!=1:\n",
    "        for i in range(b):\n",
    "            answer+=1*(a-i)\n",
    "            \n",
    "        return  answer\n",
    "        \n",
    "solution(clo1),solution(clo2),solution(clo3)"
   ]
  },
  {
   "cell_type": "code",
   "execution_count": 284,
   "metadata": {},
   "outputs": [
    {
     "name": "stdout",
     "output_type": "stream",
     "text": [
      "3 2\n",
      "3 1\n",
      "3 3\n"
     ]
    },
    {
     "data": {
      "text/plain": [
       "(5, 3, 6)"
      ]
     },
     "execution_count": 284,
     "metadata": {},
     "output_type": "execute_result"
    }
   ],
   "source": [
    "def solution(clothes):\n",
    "    cloth={}\n",
    "    cloth.update(clothes)\n",
    "    a=len(cloth)\n",
    "    b=len(set(cloth.values()))\n",
    "    print(a,b)\n",
    "\n",
    "    answer=1\n",
    "    for i in range(b):\n",
    "        answer+=1*(a-i)\n",
    "    return answer-1\n",
    "\n",
    "solution(clo1),solution(clo2),solution(clo3)"
   ]
  }
 ],
 "metadata": {
  "kernelspec": {
   "display_name": "Python 3",
   "language": "python",
   "name": "python3"
  },
  "language_info": {
   "codemirror_mode": {
    "name": "ipython",
    "version": 3
   },
   "file_extension": ".py",
   "mimetype": "text/x-python",
   "name": "python",
   "nbconvert_exporter": "python",
   "pygments_lexer": "ipython3",
   "version": "3.7.3"
  }
 },
 "nbformat": 4,
 "nbformat_minor": 2
}
